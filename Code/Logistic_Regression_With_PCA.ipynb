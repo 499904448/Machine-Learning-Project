{
 "cells": [
  {
   "cell_type": "markdown",
   "metadata": {},
   "source": [
    "<h1 align=\"center\"> Logistic Regression after PCA</h1>"
   ]
  },
  {
   "cell_type": "code",
   "execution_count": 21,
   "metadata": {},
   "outputs": [],
   "source": [
    "import pandas as pd \n",
    "import numpy as np\n",
    "import matplotlib.pyplot as plt\n",
    "from sklearn.decomposition import PCA\n",
    "from sklearn.preprocessing import StandardScaler\n",
    "from sklearn import metrics\n",
    "from sklearn.model_selection import train_test_split\n",
    "from sklearn.linear_model import LogisticRegression\n",
    "import time\n",
    "%matplotlib inline"
   ]
  },
  {
   "cell_type": "markdown",
   "metadata": {},
   "source": [
    "## Load corona Dataset"
   ]
  },
  {
   "cell_type": "code",
   "execution_count": 22,
   "metadata": {},
   "outputs": [],
   "source": [
    "url = \"corona_data.csv\""
   ]
  },
  {
   "cell_type": "code",
   "execution_count": 23,
   "metadata": {},
   "outputs": [],
   "source": [
    "# loading dataset into Pandas DataFrame\n",
    "df = pd.read_csv(url)"
   ]
  },
  {
   "cell_type": "code",
   "execution_count": 24,
   "metadata": {},
   "outputs": [
    {
     "data": {
      "text/html": [
       "<div>\n",
       "<style scoped>\n",
       "    .dataframe tbody tr th:only-of-type {\n",
       "        vertical-align: middle;\n",
       "    }\n",
       "\n",
       "    .dataframe tbody tr th {\n",
       "        vertical-align: top;\n",
       "    }\n",
       "\n",
       "    .dataframe thead th {\n",
       "        text-align: right;\n",
       "    }\n",
       "</style>\n",
       "<table border=\"1\" class=\"dataframe\">\n",
       "  <thead>\n",
       "    <tr style=\"text-align: right;\">\n",
       "      <th></th>\n",
       "      <th>cough</th>\n",
       "      <th>fever</th>\n",
       "      <th>sore_throat</th>\n",
       "      <th>shortness_of_breath</th>\n",
       "      <th>head_ache</th>\n",
       "      <th>age_60_and_above</th>\n",
       "      <th>gender</th>\n",
       "      <th>test_indication</th>\n",
       "      <th>corona_result</th>\n",
       "    </tr>\n",
       "  </thead>\n",
       "  <tbody>\n",
       "    <tr>\n",
       "      <th>0</th>\n",
       "      <td>0</td>\n",
       "      <td>0</td>\n",
       "      <td>0</td>\n",
       "      <td>0</td>\n",
       "      <td>0</td>\n",
       "      <td>1</td>\n",
       "      <td>1</td>\n",
       "      <td>0</td>\n",
       "      <td>0</td>\n",
       "    </tr>\n",
       "    <tr>\n",
       "      <th>1</th>\n",
       "      <td>1</td>\n",
       "      <td>0</td>\n",
       "      <td>0</td>\n",
       "      <td>0</td>\n",
       "      <td>0</td>\n",
       "      <td>0</td>\n",
       "      <td>1</td>\n",
       "      <td>0</td>\n",
       "      <td>0</td>\n",
       "    </tr>\n",
       "    <tr>\n",
       "      <th>2</th>\n",
       "      <td>0</td>\n",
       "      <td>1</td>\n",
       "      <td>0</td>\n",
       "      <td>0</td>\n",
       "      <td>0</td>\n",
       "      <td>0</td>\n",
       "      <td>0</td>\n",
       "      <td>0</td>\n",
       "      <td>0</td>\n",
       "    </tr>\n",
       "    <tr>\n",
       "      <th>3</th>\n",
       "      <td>1</td>\n",
       "      <td>0</td>\n",
       "      <td>0</td>\n",
       "      <td>0</td>\n",
       "      <td>0</td>\n",
       "      <td>0</td>\n",
       "      <td>1</td>\n",
       "      <td>0</td>\n",
       "      <td>0</td>\n",
       "    </tr>\n",
       "    <tr>\n",
       "      <th>4</th>\n",
       "      <td>1</td>\n",
       "      <td>0</td>\n",
       "      <td>0</td>\n",
       "      <td>0</td>\n",
       "      <td>0</td>\n",
       "      <td>0</td>\n",
       "      <td>0</td>\n",
       "      <td>0</td>\n",
       "      <td>0</td>\n",
       "    </tr>\n",
       "  </tbody>\n",
       "</table>\n",
       "</div>"
      ],
      "text/plain": [
       "   cough  fever  sore_throat  shortness_of_breath  head_ache  \\\n",
       "0      0      0            0                    0          0   \n",
       "1      1      0            0                    0          0   \n",
       "2      0      1            0                    0          0   \n",
       "3      1      0            0                    0          0   \n",
       "4      1      0            0                    0          0   \n",
       "\n",
       "   age_60_and_above  gender  test_indication  corona_result  \n",
       "0                 1       1                0              0  \n",
       "1                 0       1                0              0  \n",
       "2                 0       0                0              0  \n",
       "3                 0       1                0              0  \n",
       "4                 0       0                0              0  "
      ]
     },
     "execution_count": 24,
     "metadata": {},
     "output_type": "execute_result"
    }
   ],
   "source": [
    "df.head()"
   ]
  },
  {
   "cell_type": "markdown",
   "metadata": {},
   "source": [
    "## Standardize the Data"
   ]
  },
  {
   "cell_type": "markdown",
   "metadata": {},
   "source": [
    "\"Since PCA yields a feature subspace that maximizes the variance along the axes, it makes sense to standardize the data, especially, if it was measured on different scales. Although, all features in the Iris dataset were measured in centimeters, let us continue with the transformation of the data onto unit scale (mean=0 and variance=1), which is a requirement for the optimal performance of many machine learning algorithms.\"\n",
    "- source from https://towardsdatascience.com/pca-using-python-scikit-learn-e653f8989e60"
   ]
  },
  {
   "cell_type": "code",
   "execution_count": 25,
   "metadata": {},
   "outputs": [],
   "source": [
    "features = ['cough','fever','sore_throat','shortness_of_breath','head_ache','age_60_and_above','gender','test_indication']\n",
    "x = df.loc[:, features].values"
   ]
  },
  {
   "cell_type": "code",
   "execution_count": 26,
   "metadata": {},
   "outputs": [],
   "source": [
    "y = df.loc[:,['corona_result']].values"
   ]
  },
  {
   "cell_type": "code",
   "execution_count": 27,
   "metadata": {},
   "outputs": [],
   "source": [
    "xtrain, xtest, ytrain, ytest = train_test_split(\n",
    "    x, y, test_size=1/7.0, random_state=0)\n",
    "ytrain = ytrain.flatten()\n",
    "ytest = ytest.flatten()"
   ]
  },
  {
   "cell_type": "code",
   "execution_count": 28,
   "metadata": {},
   "outputs": [
    {
     "name": "stdout",
     "output_type": "stream",
     "text": [
      "(235676, 8)\n",
      "(235676,)\n",
      "(39280, 8)\n",
      "(39280,)\n"
     ]
    }
   ],
   "source": [
    "# check the if split works correctly\n",
    "print(xtrain.shape)\n",
    "print(ytrain.shape)\n",
    "print(xtest.shape)\n",
    "print(ytest.shape)"
   ]
  },
  {
   "cell_type": "code",
   "execution_count": 29,
   "metadata": {},
   "outputs": [],
   "source": [
    "scaler = StandardScaler()\n",
    "\n",
    "# Fit on training set only.\n",
    "scaler.fit(xtrain)\n",
    "\n",
    "# Apply transform to both the training set and the test set.\n",
    "xtrain = scaler.transform(xtrain)\n",
    "xtest = scaler.transform(xtest)"
   ]
  },
  {
   "cell_type": "code",
   "execution_count": 30,
   "metadata": {},
   "outputs": [
    {
     "data": {
      "text/html": [
       "<div>\n",
       "<style scoped>\n",
       "    .dataframe tbody tr th:only-of-type {\n",
       "        vertical-align: middle;\n",
       "    }\n",
       "\n",
       "    .dataframe tbody tr th {\n",
       "        vertical-align: top;\n",
       "    }\n",
       "\n",
       "    .dataframe thead th {\n",
       "        text-align: right;\n",
       "    }\n",
       "</style>\n",
       "<table border=\"1\" class=\"dataframe\">\n",
       "  <thead>\n",
       "    <tr style=\"text-align: right;\">\n",
       "      <th></th>\n",
       "      <th>cough</th>\n",
       "      <th>fever</th>\n",
       "      <th>sore_throat</th>\n",
       "      <th>shortness_of_breath</th>\n",
       "      <th>head_ache</th>\n",
       "      <th>age_60_and_above</th>\n",
       "      <th>gender</th>\n",
       "      <th>test_indication</th>\n",
       "    </tr>\n",
       "  </thead>\n",
       "  <tbody>\n",
       "    <tr>\n",
       "      <th>0</th>\n",
       "      <td>-0.421827</td>\n",
       "      <td>-0.290002</td>\n",
       "      <td>-0.083247</td>\n",
       "      <td>-0.074821</td>\n",
       "      <td>-0.094202</td>\n",
       "      <td>1.574752</td>\n",
       "      <td>1.015049</td>\n",
       "      <td>-0.370008</td>\n",
       "    </tr>\n",
       "    <tr>\n",
       "      <th>1</th>\n",
       "      <td>2.370638</td>\n",
       "      <td>-0.290002</td>\n",
       "      <td>-0.083247</td>\n",
       "      <td>-0.074821</td>\n",
       "      <td>-0.094202</td>\n",
       "      <td>-0.635020</td>\n",
       "      <td>-0.985174</td>\n",
       "      <td>2.993162</td>\n",
       "    </tr>\n",
       "    <tr>\n",
       "      <th>2</th>\n",
       "      <td>2.370638</td>\n",
       "      <td>-0.290002</td>\n",
       "      <td>-0.083247</td>\n",
       "      <td>-0.074821</td>\n",
       "      <td>-0.094202</td>\n",
       "      <td>-0.635020</td>\n",
       "      <td>-0.985174</td>\n",
       "      <td>2.993162</td>\n",
       "    </tr>\n",
       "    <tr>\n",
       "      <th>3</th>\n",
       "      <td>-0.421827</td>\n",
       "      <td>-0.290002</td>\n",
       "      <td>-0.083247</td>\n",
       "      <td>-0.074821</td>\n",
       "      <td>-0.094202</td>\n",
       "      <td>-0.635020</td>\n",
       "      <td>1.015049</td>\n",
       "      <td>-0.370008</td>\n",
       "    </tr>\n",
       "    <tr>\n",
       "      <th>4</th>\n",
       "      <td>-0.421827</td>\n",
       "      <td>-0.290002</td>\n",
       "      <td>-0.083247</td>\n",
       "      <td>-0.074821</td>\n",
       "      <td>-0.094202</td>\n",
       "      <td>-0.635020</td>\n",
       "      <td>1.015049</td>\n",
       "      <td>-0.370008</td>\n",
       "    </tr>\n",
       "  </tbody>\n",
       "</table>\n",
       "</div>"
      ],
      "text/plain": [
       "      cough     fever  sore_throat  shortness_of_breath  head_ache  \\\n",
       "0 -0.421827 -0.290002    -0.083247            -0.074821  -0.094202   \n",
       "1  2.370638 -0.290002    -0.083247            -0.074821  -0.094202   \n",
       "2  2.370638 -0.290002    -0.083247            -0.074821  -0.094202   \n",
       "3 -0.421827 -0.290002    -0.083247            -0.074821  -0.094202   \n",
       "4 -0.421827 -0.290002    -0.083247            -0.074821  -0.094202   \n",
       "\n",
       "   age_60_and_above    gender  test_indication  \n",
       "0          1.574752  1.015049        -0.370008  \n",
       "1         -0.635020 -0.985174         2.993162  \n",
       "2         -0.635020 -0.985174         2.993162  \n",
       "3         -0.635020  1.015049        -0.370008  \n",
       "4         -0.635020  1.015049        -0.370008  "
      ]
     },
     "execution_count": 30,
     "metadata": {},
     "output_type": "execute_result"
    }
   ],
   "source": [
    "pd.DataFrame(data = xtrain, columns = features).head()"
   ]
  },
  {
   "cell_type": "markdown",
   "metadata": {},
   "source": [
    "## PCA -> logistic regression\n",
    "#### 0.85 variance constrain should be fine 0.0"
   ]
  },
  {
   "cell_type": "code",
   "execution_count": 31,
   "metadata": {},
   "outputs": [],
   "source": [
    "pca = PCA(.85)"
   ]
  },
  {
   "cell_type": "code",
   "execution_count": 32,
   "metadata": {},
   "outputs": [
    {
     "data": {
      "text/plain": [
       "PCA(n_components=0.85)"
      ]
     },
     "execution_count": 32,
     "metadata": {},
     "output_type": "execute_result"
    }
   ],
   "source": [
    "pca.fit(xtrain)"
   ]
  },
  {
   "cell_type": "code",
   "execution_count": 33,
   "metadata": {},
   "outputs": [
    {
     "data": {
      "text/plain": [
       "6"
      ]
     },
     "execution_count": 33,
     "metadata": {},
     "output_type": "execute_result"
    }
   ],
   "source": [
    "# check the new reduced dimension\n",
    "pca.n_components_"
   ]
  },
  {
   "cell_type": "code",
   "execution_count": 34,
   "metadata": {},
   "outputs": [],
   "source": [
    "# map both dataset\n",
    "xtrain_PCA = pca.transform(xtrain)\n",
    "xtest_PCA = pca.transform(xtest)"
   ]
  },
  {
   "cell_type": "code",
   "execution_count": 35,
   "metadata": {},
   "outputs": [
    {
     "data": {
      "text/html": [
       "<div>\n",
       "<style scoped>\n",
       "    .dataframe tbody tr th:only-of-type {\n",
       "        vertical-align: middle;\n",
       "    }\n",
       "\n",
       "    .dataframe tbody tr th {\n",
       "        vertical-align: top;\n",
       "    }\n",
       "\n",
       "    .dataframe thead th {\n",
       "        text-align: right;\n",
       "    }\n",
       "</style>\n",
       "<table border=\"1\" class=\"dataframe\">\n",
       "  <thead>\n",
       "    <tr style=\"text-align: right;\">\n",
       "      <th></th>\n",
       "      <th>z1</th>\n",
       "      <th>z2</th>\n",
       "      <th>z3</th>\n",
       "      <th>z4</th>\n",
       "      <th>z5</th>\n",
       "      <th>z6</th>\n",
       "    </tr>\n",
       "  </thead>\n",
       "  <tbody>\n",
       "    <tr>\n",
       "      <th>0</th>\n",
       "      <td>-1.153664</td>\n",
       "      <td>1.417074</td>\n",
       "      <td>-0.672417</td>\n",
       "      <td>-0.005470</td>\n",
       "      <td>-0.019272</td>\n",
       "      <td>-0.053346</td>\n",
       "    </tr>\n",
       "    <tr>\n",
       "      <th>1</th>\n",
       "      <td>2.808000</td>\n",
       "      <td>-1.293530</td>\n",
       "      <td>-1.246544</td>\n",
       "      <td>-0.036260</td>\n",
       "      <td>1.280931</td>\n",
       "      <td>1.565544</td>\n",
       "    </tr>\n",
       "    <tr>\n",
       "      <th>2</th>\n",
       "      <td>2.808000</td>\n",
       "      <td>-1.293530</td>\n",
       "      <td>-1.246544</td>\n",
       "      <td>-0.036260</td>\n",
       "      <td>1.280931</td>\n",
       "      <td>1.565544</td>\n",
       "    </tr>\n",
       "    <tr>\n",
       "      <th>3</th>\n",
       "      <td>-0.580199</td>\n",
       "      <td>0.172070</td>\n",
       "      <td>0.012429</td>\n",
       "      <td>-0.044266</td>\n",
       "      <td>0.081280</td>\n",
       "      <td>0.175304</td>\n",
       "    </tr>\n",
       "    <tr>\n",
       "      <th>4</th>\n",
       "      <td>-0.580199</td>\n",
       "      <td>0.172070</td>\n",
       "      <td>0.012429</td>\n",
       "      <td>-0.044266</td>\n",
       "      <td>0.081280</td>\n",
       "      <td>0.175304</td>\n",
       "    </tr>\n",
       "  </tbody>\n",
       "</table>\n",
       "</div>"
      ],
      "text/plain": [
       "         z1        z2        z3        z4        z5        z6\n",
       "0 -1.153664  1.417074 -0.672417 -0.005470 -0.019272 -0.053346\n",
       "1  2.808000 -1.293530 -1.246544 -0.036260  1.280931  1.565544\n",
       "2  2.808000 -1.293530 -1.246544 -0.036260  1.280931  1.565544\n",
       "3 -0.580199  0.172070  0.012429 -0.044266  0.081280  0.175304\n",
       "4 -0.580199  0.172070  0.012429 -0.044266  0.081280  0.175304"
      ]
     },
     "execution_count": 35,
     "metadata": {},
     "output_type": "execute_result"
    }
   ],
   "source": [
    "pd.DataFrame(data = xtrain_PCA, columns = ['z1', 'z2', 'z3', 'z4', 'z5', 'z6']).head(5)"
   ]
  },
  {
   "cell_type": "code",
   "execution_count": 45,
   "metadata": {},
   "outputs": [],
   "source": [
    "# regression with PCA\n",
    "start_PCA = time.time()\n",
    "logisticRegr_PCA = LogisticRegression(solver = 'lbfgs')\n",
    "logisticRegr_PCA.fit(xtrain_PCA, ytrain)\n",
    "y_pred_PCA = logisticRegr_PCA.predict(xtest_PCA)\n",
    "end_PCA = time.time()\n",
    "\n",
    "# regression without PCA\n",
    "start = time.time()\n",
    "logisticRegr = LogisticRegression(solver = 'lbfgs')\n",
    "logisticRegr.fit(xtrain, ytrain)\n",
    "y_pred = logisticRegr.predict(xtest)\n",
    "end = time.time()"
   ]
  },
  {
   "cell_type": "markdown",
   "metadata": {},
   "source": [
    "## Predict the label of the new(test) data"
   ]
  },
  {
   "cell_type": "code",
   "execution_count": 46,
   "metadata": {},
   "outputs": [
    {
     "name": "stdout",
     "output_type": "stream",
     "text": [
      "With PCA: \n",
      "Running Time:  0.22822880744934082 \n",
      "\n",
      "accuracy:  0.9556771894093686\n",
      "F1 score:  0.9434455694446444\n",
      "Precision score:  0.9507407453218507\n",
      "Recall:  0.9556771894093686\n",
      "--------------------------------------------------\n",
      "Without PCA: \n",
      "Running Time:  0.2824678421020508 \n",
      "\n",
      "accuracy:  0.9555244399185336\n",
      "F1 score:  0.9430470571879157\n",
      "Precision score:  0.9507114467815961\n",
      "Recall:  0.9555244399185336\n"
     ]
    }
   ],
   "source": [
    "accuracy_PCA = metrics.accuracy_score(ytest, y_pred_PCA)\n",
    "f1_PCA = metrics.f1_score(ytest, y_pred_PCA, average='weighted')\n",
    "precision_PCA = metrics.precision_score(ytest, y_pred_PCA, average='weighted')\n",
    "recall_PCA = metrics.recall_score(ytest, y_pred_PCA, average='weighted')\n",
    "print(\"With PCA: \")\n",
    "print(\"Running Time: \",end_PCA - start_PCA,\"\\n\")\n",
    "print(\"accuracy: \", accuracy_PCA)\n",
    "print(\"F1 score: \",f1_PCA)\n",
    "print(\"Precision score: \",precision_PCA)\n",
    "print(\"Recall: \",recall_PCA)\n",
    "\n",
    "print('--------------------------------------------------')\n",
    "accuracy = metrics.accuracy_score(ytest, y_pred)\n",
    "score = logisticRegr.score(xtest, ytest)\n",
    "f1 = metrics.f1_score(ytest, y_pred, average='weighted')\n",
    "precision = metrics.precision_score(ytest, y_pred, average='weighted')\n",
    "recall = metrics.recall_score(ytest, y_pred, average='weighted')\n",
    "print(\"Without PCA: \")\n",
    "print(\"Running Time: \",end - start,\"\\n\")\n",
    "print(\"accuracy: \", accuracy)\n",
    "print(\"F1 score: \",f1)\n",
    "print(\"Precision score: \",precision)\n",
    "print(\"Recall: \",recall)"
   ]
  },
  {
   "cell_type": "markdown",
   "metadata": {},
   "source": [
    "Wow the score is actually pretty high :)\n",
    "And as you see PCA with 0.85 variance does not change decrease the score that much and in the mean time it decreases the running time\n",
    "(Our datasize is small so difference small)"
   ]
  }
 ],
 "metadata": {
  "anaconda-cloud": {},
  "kernelspec": {
   "display_name": "Python 3",
   "language": "python",
   "name": "python3"
  },
  "language_info": {
   "codemirror_mode": {
    "name": "ipython",
    "version": 3
   },
   "file_extension": ".py",
   "mimetype": "text/x-python",
   "name": "python",
   "nbconvert_exporter": "python",
   "pygments_lexer": "ipython3",
   "version": "3.9.2"
  }
 },
 "nbformat": 4,
 "nbformat_minor": 1
}
